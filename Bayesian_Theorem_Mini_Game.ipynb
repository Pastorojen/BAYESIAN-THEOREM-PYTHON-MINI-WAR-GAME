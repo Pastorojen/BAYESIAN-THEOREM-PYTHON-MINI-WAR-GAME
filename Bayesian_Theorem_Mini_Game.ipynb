{
 "cells": [
  {
   "cell_type": "markdown",
   "id": "953c7a95",
   "metadata": {},
   "source": [
    "# GAME OF SURVIVE WITH BAYES THEOREM"
   ]
  },
  {
   "cell_type": "markdown",
   "id": "50c59367",
   "metadata": {},
   "source": [
    "In this tutorial, we will explore sensible decision-making's profound impact on our game through a probabilistic lens.\n",
    "\n",
    "At the end of this tutarial reader will be learned what is bayes theorem, how to calculate probabilities with this theorem and observed Bayes calculation in many different situations by playing game."
   ]
  },
  {
   "cell_type": "markdown",
   "id": "6031c814",
   "metadata": {},
   "source": [
    "## Table of Contents\n",
    "\n",
    "### 1 - ) What Is Bayes Theorem?\n",
    "In this section Bayes Theorem will be explained basically in theory.\n",
    "### 2 - ) Bayes Theorem With Python\n",
    "In this section Bayes Theorem will be applied python code. There is also basic game development codes with using ipy widgets.\n",
    "### 3 - ) Game Section\n",
    "In game section the game and rules will be explained briefly. And reader could play game and observe the Bayes probabilities created on his / her desicions.\n",
    "    "
   ]
  },
  {
   "cell_type": "markdown",
   "id": "3b6cfb64",
   "metadata": {},
   "source": [
    "# 1) What Is Bayes Theorem?"
   ]
  },
  {
   "cell_type": "markdown",
   "id": "0115a321",
   "metadata": {},
   "source": [
    "In this part, Bayes' Theorem will be explained in theory. In the code and game part, the user will have the chance to observe this theorem's calculations."
   ]
  },
  {
   "cell_type": "markdown",
   "id": "efb6a5fe",
   "metadata": {},
   "source": [
    "In probability theory and statistics, Bayes' theorem (alternatively Bayes' law or Bayes' rule), named after Thomas Bayes, describes the probability of an event, based on prior knowledge of conditions that might be related to the event.\n",
    "\n",
    "Bayes' theorem is stated mathematically as the following equation:"
   ]
  },
  {
   "attachments": {
    "image.png": {
     "image/png": "[encoded data removed]"
    }
   },
   "cell_type": "markdown",
   "id": "c24690af",
   "metadata": {},
   "source": [
    "![image.png](attachment:image.png)"
   ]
  },
  {
   "cell_type": "markdown",
   "id": "b5e5043a",
   "metadata": {},
   "source": [
    "where A and B are events and P(B) ≠ 0.\n",
    "\n",
    "   * P(A/B) is a conditional probability: the probability of event A occurring given that B is true. It is also called the posterior probability of A given B.\n",
    "   * P(B/A) is also conditional probability: the probability of event B occurring given that A is true. It can also be interpreted as like likelihood of A given a fixed B because P(B/A) = L(A/B)\n",
    "   *  P(A) and P(B) are the probabilities of observing A and B respectively without any given conditions; they are known as the prior probability and marginal probability.\n",
    "   \n",
    "Source: https://en.wikipedia.org/wiki/Bayes%27_theorem"
   ]
  },
  {
   "cell_type": "markdown",
   "id": "11bf1b9b",
   "metadata": {},
   "source": [
    "# 2) Bayes Theorem With Python"
   ]
  },
  {
   "cell_type": "markdown",
   "id": "ff698a52",
   "metadata": {},
   "source": [
    "In this part, the formula of the theorem will be applied to Python code. It will be explained step by step."
   ]
  },
  {
   "cell_type": "code",
   "execution_count": 1,
   "id": "69e56272",
   "metadata": {},
   "outputs": [],
   "source": [
    "# In this section, we import all libraries that we will use in the project.\n",
    "\n",
    "from ipywidgets import widgets, Layout,Button,Box # This library is used to have ipywidgets functionalities.\n",
    "from IPython.display import clear_output # This library is used to clear ipy widgets output. \n",
    "from IPython.display import display ,Image, HTML # This library is used to have display, image and HTML ipy widgets.\n",
    "import pandas as pd # This library is used to create a dataframe.\n",
    "import random # This library is used to create a random number"
   ]
  },
  {
   "cell_type": "code",
   "execution_count": 2,
   "id": "eacfe011",
   "metadata": {},
   "outputs": [],
   "source": [
    "# In this section, we define the army types and their advantages for each other.\n",
    "# The advantages and disadvantages will be explained in the game section.\n",
    "\n",
    "# Army types are defined as list below. It will be used for df headers and enemy army type selections forward.\n",
    "enemy_army_type_list = [\"CAVALRY\",\"ELEPHANT\",\"ARCHER\",\"ARTILLERY\",\"INFANTRY\",\n",
    "                        \"INFANTRY\",\"ARTILLERY\",\"ARCHER\",\"ELEPHANT\",\"CAVALRY\"]\n",
    "\n",
    "# pb_list is defined as a dictionary to store the winning rate of army types.\n",
    "pb_list = {\"CAVALRY\"   : [0.5, 0.7, 0.3, 0.4, 0.6],\n",
    "           \"ELEPHANT\"  : [0.3, 0.5, 0.6, 0.7, 0.4],\n",
    "           \"ARCHER\"    : [0.7, 0.4, 0.5, 0.6, 0.3],\n",
    "           \"ARTILLERY\" : [0.6, 0.3, 0.4, 0.5, 0.7],\n",
    "           \"INFANTRY\"  : [0.4, 0.6, 0.7, 0.3, 0.5]}\n",
    "# prob is the dataframe that stores the winning rate of different army types as a table.\n",
    "prob = pd.DataFrame(pb_list, index =enemy_army_type_list[:5]) \n",
    "\n",
    "# Pictures that are used to show army type have been found on the internet their source can be seen with the link.\n",
    "picture_list=[\n",
    "\"https://www.themilitaryworkshop.com/image/cache/data/Products/John%20Jenkins/Romans/MRRCAV-03R-500x500.jpg\",\n",
    "\"https://www.themilitaryworkshop.com/image/cache/data/Products/Thomas%20Gunn/Romans/ROM048A-500x500.jpg\",\n",
    "\"https://www.themilitaryworkshop.com/image/cache/data/Products/John%20Jenkins/Roses/THYORK-07-500x500.jpg\",\n",
    "\"https://www.themilitaryworkshop.com/image/data/Products/Britains/WWI/23054.jpg\",\n",
    "\"https://smithsonianassociates.org/ticketing/images/web-core-2023-pr/1H0-785pr.jpg\"]"
   ]
  },
  {
   "cell_type": "code",
   "execution_count": 3,
   "id": "6088d418",
   "metadata": {},
   "outputs": [
    {
     "data": {
      "text/html": [
       "<div>\n",
       "<style scoped>\n",
       "    .dataframe tbody tr th:only-of-type {\n",
       "        vertical-align: middle;\n",
       "    }\n",
       "\n",
       "    .dataframe tbody tr th {\n",
       "        vertical-align: top;\n",
       "    }\n",
       "\n",
       "    .dataframe thead th {\n",
       "        text-align: right;\n",
       "    }\n",
       "</style>\n",
       "<table border=\"1\" class=\"dataframe\">\n",
       "  <thead>\n",
       "    <tr style=\"text-align: right;\">\n",
       "      <th></th>\n",
       "      <th>CAVALRY</th>\n",
       "      <th>ELEPHANT</th>\n",
       "      <th>ARCHER</th>\n",
       "      <th>ARTILLERY</th>\n",
       "      <th>INFANTRY</th>\n",
       "    </tr>\n",
       "  </thead>\n",
       "  <tbody>\n",
       "    <tr>\n",
       "      <th>CAVALRY</th>\n",
       "      <td>0.5</td>\n",
       "      <td>0.3</td>\n",
       "      <td>0.7</td>\n",
       "      <td>0.6</td>\n",
       "      <td>0.4</td>\n",
       "    </tr>\n",
       "    <tr>\n",
       "      <th>ELEPHANT</th>\n",
       "      <td>0.7</td>\n",
       "      <td>0.5</td>\n",
       "      <td>0.4</td>\n",
       "      <td>0.3</td>\n",
       "      <td>0.6</td>\n",
       "    </tr>\n",
       "    <tr>\n",
       "      <th>ARCHER</th>\n",
       "      <td>0.3</td>\n",
       "      <td>0.6</td>\n",
       "      <td>0.5</td>\n",
       "      <td>0.4</td>\n",
       "      <td>0.7</td>\n",
       "    </tr>\n",
       "    <tr>\n",
       "      <th>ARTILLERY</th>\n",
       "      <td>0.4</td>\n",
       "      <td>0.7</td>\n",
       "      <td>0.6</td>\n",
       "      <td>0.5</td>\n",
       "      <td>0.3</td>\n",
       "    </tr>\n",
       "    <tr>\n",
       "      <th>INFANTRY</th>\n",
       "      <td>0.6</td>\n",
       "      <td>0.4</td>\n",
       "      <td>0.3</td>\n",
       "      <td>0.7</td>\n",
       "      <td>0.5</td>\n",
       "    </tr>\n",
       "  </tbody>\n",
       "</table>\n",
       "</div>"
      ],
      "text/plain": [
       "           CAVALRY  ELEPHANT  ARCHER  ARTILLERY  INFANTRY\n",
       "CAVALRY        0.5       0.3     0.7        0.6       0.4\n",
       "ELEPHANT       0.7       0.5     0.4        0.3       0.6\n",
       "ARCHER         0.3       0.6     0.5        0.4       0.7\n",
       "ARTILLERY      0.4       0.7     0.6        0.5       0.3\n",
       "INFANTRY       0.6       0.4     0.3        0.7       0.5"
      ]
     },
     "execution_count": 3,
     "metadata": {},
     "output_type": "execute_result"
    }
   ],
   "source": [
    "prob # All the B(given condition possibilities) can be seen in prob dataframe"
   ]
  },
  {
   "cell_type": "code",
   "execution_count": 4,
   "id": "fe3ec0c0",
   "metadata": {},
   "outputs": [],
   "source": [
    "# In this section, we define players information as a class.\n",
    "\n",
    "class user():\n",
    "    \n",
    "    \"\"\" This class has 4 functions in it. This class is used to store players` and enemy's information.\n",
    "    In addition to that with this class functions player can level up, battle and arrange \n",
    "    the troops amount.    \n",
    "    \"\"\"\n",
    "\n",
    "    def __init__(self,type):\n",
    "        \n",
    "        \"\"\" This function is created to initialize\n",
    "        user class information which contains; the level,\n",
    "        enemy's and players' army type and total number of troops.\"\"\"\n",
    "        \n",
    "        self.level = 1 # The starting level is defined as 1 initially.\n",
    "        self.enemy_army_type =enemy_army_type_list[self.level-1] # The initial army type is chosen from the list.\n",
    "        self.enemy_total_troops = 50 # Initial enemy total troops are defined.\n",
    "        self.total_troops = 1000 # Initial player total troops are defined.\n",
    "        self.type = type # The player`s army type is defined with data that comes from the player.\n",
    "        \n",
    "    def level_up(self):\n",
    "\n",
    "        \"\"\" This function is created to make the next level harder.\n",
    "        It will be applied automatically after each level end.\n",
    "        Basically, there will be 10 levels until the end.\"\"\"\n",
    "        \n",
    "        self.level += 1 # The level is increased by 1\n",
    "        self.enemy_army_type = enemy_army_type_list[self.level-1] # Enemy army type is changed depending on the level.\n",
    "        self.enemy_total_troops += self.level*10 # The enemy`s troops number is increased.\n",
    "        self.total_troops += self.level*10 # The player`s troops number is increased.\n",
    "        if self.level == 10:# If level is 10 the game is over.\n",
    "            return \"Congratulations you have won the game!\"\n",
    "    \n",
    "    def troops_brought(self,amount):\n",
    "        \n",
    "        \"\"\" This function is created to decide how many troops\n",
    "        will be used for the next battle from the player's own decision\"\"\"        \n",
    "        \n",
    "        self.total_troops = self.total_troops - amount # The player`s total troops decreased the same as used in battle.\n",
    "\n",
    "        \n",
    "    def battle(self,chance):\n",
    "            \n",
    "        \"\"\" This function is created to make a battle between the user army,\n",
    "        and the enemy. In this function army type and bringed_troops\n",
    "        will be used to compute. If the user wins the battle it can go to the\n",
    "        next level but none of the troops will return. So troops are supposed\n",
    "        to be used carefully to win the whole game!\"\"\"  \n",
    "        \n",
    "        random_number = random.random() # Create random number\n",
    "\n",
    "        if random_number < chance: # Compare the random numbers with chance value\n",
    "            user.level_up(self) # The player wins the battle and a new level is uploaded.\n",
    "            return print(\"\"\"Congratulations you have won the battle!\n",
    "The next level will be harder! You should first observe your enemy and\n",
    "choose how many troops you want to take with you.\"\"\")      \n",
    "        else:\n",
    "            \n",
    "            if self.total_troops <= 0:# If there are no more troops for the players.           \n",
    "                \n",
    "                clear_output() # Clear all outputs from screen.\n",
    "                return \"Game Over\" # Return a string value\n",
    "            \n",
    "            else:\n",
    "                # If here are still troops and the battle is lost.  \n",
    "                return print(\"You lose the battle but do not worry you still have chance keep going.\")\n",
    "        "
   ]
  },
  {
   "cell_type": "code",
   "execution_count": 5,
   "id": "03195e14",
   "metadata": {},
   "outputs": [],
   "source": [
    "def probabilities_calculator(troops_brought):\n",
    "    \n",
    "    \"\"\" This function is created to calculate all probabilities\n",
    "    that will be used in the Bayes Calculator.\"\"\" \n",
    "    # Next line is calculation of p(B/A).\n",
    "    P_of_B_when_given_A= troops_brought/ (player.enemy_total_troops + troops_brought)\n",
    "    # Next line is calculation of p(A).\n",
    "    Con_Chance_of_A = prob[player.enemy_army_type][player.type]\n",
    "    # Next line is calculatin of p(B).\n",
    "    All_Con_Chance_B = (Con_Chance_of_A * P_of_B_when_given_A) + ((1 - P_of_B_when_given_A)*(1 - Con_Chance_of_A))\n",
    "    # The function will return all of these values.\n",
    "    return P_of_B_when_given_A,Con_Chance_of_A,All_Con_Chance_B"
   ]
  },
  {
   "cell_type": "code",
   "execution_count": 6,
   "id": "7698a741",
   "metadata": {},
   "outputs": [],
   "source": [
    "def bayes_calculator(P_of_B_when_given_A,Con_Chance_of_A,All_Con_Chance_B):\n",
    "    \n",
    "    \"\"\" This function is used to calculate chance in given conditions,\n",
    "        with using Bayes Theorem method.\"\"\"\n",
    "    # Next line is calculatin of p(A/B) = (p(A)*p(B/A)) / p(B))\n",
    "    wanted_probability = (P_of_B_when_given_A * Con_Chance_of_A) / All_Con_Chance_B    \n",
    "    # The function will return result chance of winning battle\n",
    "    return wanted_probability"
   ]
  },
  {
   "cell_type": "code",
   "execution_count": 7,
   "id": "504e3d57",
   "metadata": {},
   "outputs": [],
   "source": [
    "class system():\n",
    "    \n",
    "    \"\"\" This class is created to have ipywidget gui functionalities. This class has __init__, start_game\n",
    "    handle_slider_value, game_play, handle_dropdown_change and screen functions in it.\n",
    "    \"\"\"\n",
    "    \n",
    "    def __init__(self):\n",
    "        \n",
    "        \"\"\" This function is created to define self elements. The number of troops brought for battle, dropdown\n",
    "        list, button and its layout are defined in this section.\n",
    "        \"\"\"\n",
    "        self.troops_brought = 0 #troops_brought is defined it is for how many troops will player use in battle.\n",
    "        self.button = \"button\" #button(for gui apperance) is defined firstly as string \n",
    "        self.dropdown = \"dropdown\" # A dropdown menu for army type choosing is created\n",
    "        # Button's layout is defined\n",
    "        self.layout = Layout(display='flex',flex_flow='column',align_items='stretch',border='solid',width='50%')\n",
    "        \n",
    "    def start_game(self):  \n",
    "\n",
    "        \"\"\" This function is created to start the game with army type selection.\n",
    "        \"\"\"\n",
    "        # The types of armies are list below which player can choose.\n",
    "        dropdown_option_list = [\"Please pick your army tpye\"] + enemy_army_type_list\n",
    "        # The dropdown value is updated due to dropdown_option_list\n",
    "        self.dropdown = widgets.Dropdown(options= dropdown_option_list[:6],value=dropdown_option_list[0],description='Select:')\n",
    "        # The code below observes if any changes in dropdown, if so handle_dropdown_change function is applied\n",
    "        self.dropdown.observe(self.handle_dropdown_change, names='value')\n",
    "        display(self.dropdown)# Displays the dropdown menu on the screen.          \n",
    "\n",
    "    def handle_dropdown_change(self,change):\n",
    "        \n",
    "        \"\"\" This function is created to make process if player changes the dropdown menu.\n",
    "        \"\"\"\n",
    "        \n",
    "        global player # Global player values are used in this function.\n",
    "        \n",
    "        selected_option = change.new  # Capture the selected value.\n",
    "        player = user(selected_option) # Define the player with choosen army type.\n",
    "        self.screen() # It calls the screen function to display values on the screen.\n",
    "        print(f'Selected Army Type: {selected_option}\\nDo not forget your chance against the other army types')        \n",
    "        self.dropdown.close()  # Close the dropdown\n",
    "\n",
    "    def screen(self):\n",
    "\n",
    "        \"\"\" This function is created to display everytime screen objects.\n",
    "        \"\"\"\n",
    "        # The code below shows how many troops the player would like to use. \n",
    "        self.troops_brought = widgets.IntSlider( max=player.total_troops,step=25, description='TB:')\n",
    "        # The code below captures the changes in troops_brought value if there is change applies handle_slider_value function\n",
    "        self.troops_brought.observe(self.handle_slider_value, names='value')\n",
    "        # Define the battle button\n",
    "        self.button = widgets.Button(description=\"Battle\",button_style=\"danger\",layout =self.layout)\n",
    "        # When clicking on battle button it calls game_play function\n",
    "        self.button.on_click(self.game_play)\n",
    "        # The code below displays the elements on the screen.\n",
    "        display(widgets.HBox([self.troops_brought,self.button]))     \n",
    "        \n",
    "        \n",
    "    def handle_slider_value(self,change):\n",
    "        \n",
    "        \"\"\" This function is created to make all calculations and shows new elements on the screen\n",
    "        with taken players brought troops value. Every time player change the value of the brought\n",
    "        troops value the new calculations are applied and showed on the screen.\n",
    "        \"\"\"\n",
    "\n",
    "        selected_value = change.new  # This captures new choosen value when player arrange TB stick\n",
    "        troops = self.troops_brought.value # This is troops that player has choosen to go in next battle.   \n",
    "        x,y,z  = probabilities_calculator(troops)#This is calculation of probabilities with given troops number.\n",
    "        chance = bayes_calculator(x,y,z)#This is the final chance after bayes calculation applied.\n",
    "        clear_output() #It clears screen before news come in. \n",
    "        display(widgets.HBox([self.troops_brought, self.button])) # Displays TB arrange stick and buttons. \n",
    "        \n",
    "        # override the default width of the button to 'auto' to let the button grow\n",
    "        items_layout = Layout( width='auto')\n",
    "        \n",
    "        # Arrenging of the boxes` layout\n",
    "        box_layout = Layout(display='flex',flex_flow='column',align_items='stretch',border='solid',width='50%')\n",
    "\n",
    "        # Defining all of the player`s information as list\n",
    "        player_informations = ['Level: %2d'%(player.level),'Your winning Chance: %2.2f'%(chance), \n",
    "                               'Your Army Type:  %2s' %(player.type),\n",
    "                               'Your total troops:  %2d'%(player.total_troops)]\n",
    "        # Defining all of the enemy`s information as list\n",
    "        enemy_informations =  ['Number of troops will remain: %2d'%(player.total_troops-troops),\n",
    "                               'Enemy`s winning Chance: %2.2f'%(1-chance), \n",
    "                               'Enemy`s Army Type:  %2s' %(player.enemy_army_type),\n",
    "                               'Enemy`s total troops:  %2d'%(player.enemy_total_troops)]\n",
    "        \n",
    "        # Putting all of the player information into shape of button for better apperance\n",
    "        items = [Button(description=info, layout=items_layout, button_style='info')\n",
    "                 for info in player_informations]\n",
    "        \n",
    "        # Putting all of the enemy information into shape of button for better apperance\n",
    "        eitems= [Button(description=info, layout=items_layout, button_style='danger')\n",
    "                 for info in enemy_informations]\n",
    "        # Taking all of the player information boxes into one box section\n",
    "        box = Box(children=items, layout=box_layout)\n",
    "        \n",
    "        # Taking all of the enemy information boxes into one box section\n",
    "        box1 = Box(children=eitems, layout=box_layout)\n",
    "        try:\n",
    "            \n",
    "            \n",
    "            # Create image objects depends on players army type\n",
    "            image1 = Image(url=picture_list[enemy_army_type_list.index(player.type)], width=500)\n",
    "            # Create image objects depends on enemies army type\n",
    "            image2 = Image(url=picture_list[enemy_army_type_list.index(player.enemy_army_type)], width=500)\n",
    "\n",
    "            # Use HTML to display the images side by side\n",
    "            html_code = f\"\"\"<div style='display: flex; justify-content: center;'><div>{image1._repr_html_()}\n",
    "            </div><div style='width: 33%;'></div><div>{image2._repr_html_()}</div></div>\"\"\"\n",
    "            \n",
    "            display(HTML(html_code)) # Displays the images  \n",
    "            \n",
    "        except:#If image's links not valid avoid the error.\n",
    "            \n",
    "            pass\n",
    "        \n",
    "        display(widgets.HBox([box,box1])) # Displays the boxes\n",
    "        \n",
    "        # The code below gives calculations step by step for better understanding\n",
    "        calculation_massage=\"\"\"P(B | A)    :The probability of event B occurring given that A is true = %2.2f\\n\n",
    "P(A)        : A is true without any other conditions. = %2.2f\\n\n",
    "P(B | not A): 1 - P(B | A) = %2.2f\\n\n",
    "P(B)        : P(B | A) * P(A) + P(B | not A) * (1 - P(A))\\n\n",
    "P(B)        : (%2.2f) * (%2.2f) + (%2.2f) * (%2.2f) = %2.2f\\n\n",
    "P(A | B)    : (P(A) * P(B|A)) / P(B)\\n \n",
    "P(A | B)    : (%2.2f * %2.2f) / %2.2f = %2.2f\n",
    "                            \"\"\"%(x,y,(1-x),x,y,(1-x),(1-y),z,y,x,z,chance)\n",
    "        print(calculation_massage)# Prints the steps\n",
    "\n",
    "    def game_play(self,change):\n",
    "\n",
    "        \"\"\" This function is used to apply all steps after clicking battle button!\"\"\"\n",
    "\n",
    "        clear_output() # Firstly clear everything on the screen\n",
    "        selected_option = self.dropdown.value # This is army type that player has choosen.\n",
    "        troops = self.troops_brought.value # This is troops that player has choosen to go in next battle.   \n",
    "        x,y,z  = probabilities_calculator(troops)#This is calculation of probabilities with given troops number.\n",
    "        chance = bayes_calculator(x,y,z)#This is final bayes calculation applied.\n",
    "        player.troops_brought(troops)#This function is called to decrease the brought amount of troops from total.\n",
    "        result = player.battle(chance)#This is for battle simulation to check if win or lose.  \n",
    "        print(\"Battle is over!\")# Prints battle is finished succesfully.\n",
    "        if result == \"Game Over\": # If the result is game over.\n",
    "            \n",
    "            self.troops_brought.close()\n",
    "            try:\n",
    "                # Upload the game over images\n",
    "                url = 'https://t3.ftcdn.net/jpg/01/45/60/06/360_F_145600677_yQimjwKWasy3I1XVQvTYeCNGMInU9OKx.jpg'\n",
    "\n",
    "                image = Image(url=url, width=500)# Describe the image with url and size\n",
    "                display(image)# display the image\n",
    "            \n",
    "            except:#If url is no longer valid avoid error.\n",
    "                \n",
    "                display(\"Game Over\")# display the massage\n",
    "            \n",
    "        else: #If the game is not over yet.\n",
    "            \n",
    "            self.screen()#Shows player to the main screen again.\n",
    "            \n",
    "\n",
    "        \n",
    "   \n",
    "        \n",
    "\n",
    "        \n",
    "system = system()  # Declaration of the system class    "
   ]
  },
  {
   "cell_type": "markdown",
   "id": "be295606",
   "metadata": {},
   "source": [
    "# 3) Game Section"
   ]
  },
  {
   "cell_type": "markdown",
   "id": "81f0d7ce",
   "metadata": {},
   "source": [
    "In this section, the user can play the game with his/her own decisions. The user can observe results - risks that are taken for each level. In this part, ipywidget is used to collect players' decisions.\n",
    "But the thing is not always the best decisions for probability win as in real life. The important thing is the player can see and understand in each step what is the probability of being successful with his or her choice.\n",
    "And where the probability comes from.\n",
    "\n",
    "Basically, there are 10 levels if the player wins all of the levels the game will end. When the player makes a battle, the player loses all of his brought troops if there are no more troops game will end also."
   ]
  },
  {
   "cell_type": "markdown",
   "id": "f40b74d7",
   "metadata": {},
   "source": [
    "The winning rates of all types of armies can be seen below. The player will pick one of this type of army, and battle up to 10 wars with enemies armies. Enemies will be 2 of each different type of that so picking army type is important to finish the game! "
   ]
  },
  {
   "attachments": {
    "image-3.png": {
     "image/png": "[encoded data removed]"
    }
   },
   "cell_type": "markdown",
   "id": "cc07511c",
   "metadata": {},
   "source": [
    "![image-3.png](attachment:image-3.png)"
   ]
  },
  {
   "cell_type": "markdown",
   "id": "7754902e",
   "metadata": {},
   "source": [
    "#  Before start game user should pick what army type he/she will use."
   ]
  },
  {
   "cell_type": "code",
   "execution_count": 8,
   "id": "5c33d2d9",
   "metadata": {},
   "outputs": [
    {
     "name": "stdout",
     "output_type": "stream",
     "text": [
      "Congratulations you have won the battle!\n",
      "The next level will be harder! You should first observe your enemy and\n",
      "choose how many troops you want to take with you.\n",
      "Battle is over!\n"
     ]
    },
    {
     "data": {
      "application/vnd.jupyter.widget-view+json": {
       "model_id": "71799725ede3489a845613ad97e96ad3",
       "version_major": 2,
       "version_minor": 0
      },
      "text/plain": [
       "HBox(children=(IntSlider(value=0, description='TB:', max=115, step=25), Button(button_style='danger', descript…"
      ]
     },
     "metadata": {},
     "output_type": "display_data"
    }
   ],
   "source": [
    "system.start_game() # Start the game"
   ]
  },
  {
   "cell_type": "code",
   "execution_count": null,
   "id": "09c89409",
   "metadata": {},
   "outputs": [],
   "source": []
  }
 ],
 "metadata": {
  "kernelspec": {
   "display_name": "Python 3 (ipykernel)",
   "language": "python",
   "name": "python3"
  },
  "language_info": {
   "codemirror_mode": {
    "name": "ipython",
    "version": 3
   },
   "file_extension": ".py",
   "mimetype": "text/x-python",
   "name": "python",
   "nbconvert_exporter": "python",
   "pygments_lexer": "ipython3",
   "version": "3.11.4"
  }
 },
 "nbformat": 4,
 "nbformat_minor": 5
}
